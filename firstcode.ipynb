{
 "cells": [
  {
   "cell_type": "code",
   "execution_count": 8,
   "metadata": {},
   "outputs": [
    {
     "name": "stdout",
     "output_type": "stream",
     "text": [
      "value1\n"
     ]
    }
   ],
   "source": [
    "nested_dict = {\n",
    "    'level1': {\n",
    "        'level2a': {\n",
    "            'level3a': 'value1',\n",
    "            'level3b': 'value2'\n",
    "        },\n",
    "        'level2b': 'value3'\n",
    "    },\n",
    "    'level1b': 'value4'\n",
    "}\n",
    "print(nested_dict.get('level1').get('level2a').get('level3a'))"
   ]
  },
  {
   "cell_type": "code",
   "execution_count": 14,
   "metadata": {},
   "outputs": [
    {
     "ename": "SyntaxError",
     "evalue": "invalid syntax (3957740779.py, line 3)",
     "output_type": "error",
     "traceback": [
      "  \u001b[36mCell\u001b[39m\u001b[36m \u001b[39m\u001b[32mIn[14]\u001b[39m\u001b[32m, line 3\u001b[39m\n\u001b[31m    \u001b[39m\u001b[31mfreq_dict={i:(if i in freq_dict freq_dict[i]=freq_dict[i]+1  else freq_dict[i]=1) for i in numbers}\u001b[39m\n                  ^\n\u001b[31mSyntaxError\u001b[39m\u001b[31m:\u001b[39m invalid syntax\n"
     ]
    }
   ],
   "source": [
    "#code to count the frequency of elemnts in a dictionary\n",
    "numbers=[1,1,3,3,3,4,2,2,2,2,5]\n",
    "freq_dict={i:(if i in freq_dict freq_dict[i]=freq_dict[i]+1  else freq_dict[i]=1) for i in numbers}\n",
    "print(freq_dict)\n",
    "\n",
    "\n",
    "\n"
   ]
  },
  {
   "cell_type": "code",
   "execution_count": 11,
   "metadata": {},
   "outputs": [
    {
     "name": "stdout",
     "output_type": "stream",
     "text": [
      "{1: 2, 3: 3, 4: 1, 2: 4, 5: 1}\n"
     ]
    }
   ],
   "source": [
    "freq1={}\n",
    "for i in numbers:\n",
    "    if i in freq1:\n",
    "        freq1[i]+=1\n",
    "    else:\n",
    "        freq1[i]=1\n",
    "print(freq1)\n",
    "\n",
    "\n",
    "\n"
   ]
  },
  {
   "cell_type": "code",
   "execution_count": 5,
   "metadata": {},
   "outputs": [
    {
     "name": "stdout",
     "output_type": "stream",
     "text": [
      "<class 'int'>\n",
      "a=3,b=2\n"
     ]
    }
   ],
   "source": [
    "a=2\n",
    "b=3\n",
    "print(type(a))\n",
    "if(a>b):\n",
    "    a=a+b\n",
    "    b=a-b\n",
    "    a=a-b\n",
    "else:\n",
    "    b=a+b\n",
    "    a=b-a\n",
    "    b=b-a\n",
    "print(f\"a={a},b={b}\")"
   ]
  },
  {
   "cell_type": "code",
   "execution_count": 15,
   "metadata": {},
   "outputs": [
    {
     "name": "stdout",
     "output_type": "stream",
     "text": [
      "4\n"
     ]
    },
    {
     "data": {
      "text/plain": [
       "'aaaa'"
      ]
     },
     "execution_count": 15,
     "metadata": {},
     "output_type": "execute_result"
    }
   ],
   "source": [
    "word1=\"suryaaaa\"\n",
    "word2=\"nath\"\n",
    "minlen= len(word1) if len(word1)<len(word2) else len(word2)\n",
    "print(minlen)\n",
    "word1[4:]"
   ]
  },
  {
   "cell_type": "code",
   "execution_count": 147,
   "metadata": {},
   "outputs": [
    {
     "name": "stdout",
     "output_type": "stream",
     "text": [
      "['apple', 'banana', 'apple', 'banana', 'cherry', 'date']\n"
     ]
    }
   ],
   "source": [
    "l1=[\"apple\", \"banana\", \"apple\"]\n",
    "l2=[\"banana\", \"cherry\", \"date\"]\n",
    "print(l1+l2)"
   ]
  },
  {
   "cell_type": "code",
   "execution_count": 22,
   "metadata": {},
   "outputs": [
    {
     "name": "stdout",
     "output_type": "stream",
     "text": [
      "6,5\n"
     ]
    }
   ],
   "source": [
    "list1=[1,1,1,2,2,2,4,5,5,6,6,6,9,9,7,6,6]\n",
    "freqdict={i:list1.count(i) for i in list1}\n",
    "maxval=max(freqdict.values())\n",
    "for a,b in freqdict.items():\n",
    "    if b==maxval:\n",
    "        print(f\"{a},{b}\")"
   ]
  },
  {
   "cell_type": "code",
   "execution_count": 23,
   "metadata": {},
   "outputs": [
    {
     "data": {
      "text/plain": [
       "{'a': ['apple', 'ant'], 'b': ['banana', 'bat'], 'c': ['car']}"
      ]
     },
     "execution_count": 23,
     "metadata": {},
     "output_type": "execute_result"
    }
   ],
   "source": [
    "li=[\"apple\", \"ant\", \"banana\", \"bat\", \"car\"]\n",
    "d1={}\n",
    "for i in li:\n",
    "    if i[0] not in d1.keys():\n",
    "        d1[i[0]]=[i]\n",
    "    else:\n",
    "        d1[i[0]].append(i)\n",
    "d1"
   ]
  },
  {
   "cell_type": "code",
   "execution_count": 26,
   "metadata": {},
   "outputs": [
    {
     "name": "stdout",
     "output_type": "stream",
     "text": [
      "False\n"
     ]
    }
   ],
   "source": [
    "def isev(a):\n",
    "    return \"True\" if(a%2==0) else \"False\"\n",
    "\n",
    "print(isev(7))"
   ]
  },
  {
   "cell_type": "code",
   "execution_count": 36,
   "metadata": {},
   "outputs": [
    {
     "name": "stdout",
     "output_type": "stream",
     "text": [
      "False\n"
     ]
    }
   ],
   "source": [
    "passa=\"Surya@123\"\n",
    "print(passa.isalnum())"
   ]
  },
  {
   "cell_type": "code",
   "execution_count": 39,
   "metadata": {},
   "outputs": [
    {
     "name": "stdout",
     "output_type": "stream",
     "text": [
      "2100\n"
     ]
    }
   ],
   "source": [
    "cart=[\n",
    "    {\"name\":\"apples\",\"quantity\":10,\"price_per_unit\":100},\n",
    "    {\"name\":\"mangoes\",\"quantity\":10,\"price_per_unit\":100},\n",
    "    {\"name\":\"grapes\",\"quantity\":1,\"price_per_unit\":100}\n",
    "]\n",
    "\n",
    "def totalval(cart):\n",
    "    total_price=0\n",
    "    for i in cart:\n",
    "        total_price+=i[\"price_per_unit\"]*i[\"quantity\"]\n",
    "    return total_price\n",
    "print(totalval(cart))\n",
    "    \n",
    "            \n"
   ]
  },
  {
   "cell_type": "code",
   "execution_count": 42,
   "metadata": {},
   "outputs": [
    {
     "name": "stdout",
     "output_type": "stream",
     "text": [
      "f\n"
     ]
    }
   ],
   "source": [
    "a=\"aaab\"\n",
    "if(a==a[::-1]):\n",
    "    print(\"t\")\n",
    "else:\n",
    "    print(\"f\")\n",
    "    "
   ]
  },
  {
   "cell_type": "code",
   "execution_count": 51,
   "metadata": {},
   "outputs": [
    {
     "name": "stdout",
     "output_type": "stream",
     "text": [
      "[1, 2, [9, 99, 90], 80]\n",
      "[1, 10, [9, 99, 0], 80]\n"
     ]
    }
   ],
   "source": [
    "import copy\n",
    "l10=[1,2,[9,99,90],80]\n",
    "\n",
    "l20=copy.deepcopy(l10)\n",
    "l20[1]=10\n",
    "l20[2][2]=0\n",
    "print(l10)\n",
    "print(l20)"
   ]
  },
  {
   "cell_type": "code",
   "execution_count": 141,
   "metadata": {},
   "outputs": [
    {
     "name": "stdout",
     "output_type": "stream",
     "text": [
      "[1, 2, 3, 4, 5, 6, 7, 8, 9]\n",
      "6\n"
     ]
    }
   ],
   "source": [
    "import random\n",
    "a1=['1','2','3','4','5','6','7','8','9']\n",
    "print(list(map(lambda l:int(l),a1)))\n",
    "list(map(lambda i:i[\"name\"],cart))\n",
    "print(a1[random.randint(0,len(a1)-1)])"
   ]
  },
  {
   "cell_type": "code",
   "execution_count": 67,
   "metadata": {},
   "outputs": [
    {
     "data": {
      "text/plain": [
       "[{'name': 'apples', 'quantity': 10, 'price_per_unit': 100},\n",
       " {'name': 'mangoes', 'quantity': 10, 'price_per_unit': 100}]"
      ]
     },
     "execution_count": 67,
     "metadata": {},
     "output_type": "execute_result"
    }
   ],
   "source": [
    "list(filter(lambda x:x[\"quantity\"]>5,cart))"
   ]
  },
  {
   "cell_type": "code",
   "execution_count": 69,
   "metadata": {},
   "outputs": [
    {
     "data": {
      "text/plain": [
       "False"
      ]
     },
     "execution_count": 69,
     "metadata": {},
     "output_type": "execute_result"
    }
   ],
   "source": [
    "even_grt=lambda x:x>5 and x%2==0\n",
    "even_grt(5)"
   ]
  },
  {
   "cell_type": "code",
   "execution_count": 198,
   "metadata": {},
   "outputs": [
    {
     "name": "stdout",
     "output_type": "stream",
     "text": [
      "suryanath\n",
      "False\n"
     ]
    }
   ],
   "source": [
    "astr=\"   !@#$suryanath!@#$%^\"\n",
    "print(astr.strip('!@#$%^ '))\n",
    "asd='  '+astr.strip('!@#$%^ ')\n",
    "print(asd.isalnum())"
   ]
  },
  {
   "cell_type": "code",
   "execution_count": 114,
   "metadata": {},
   "outputs": [
    {
     "name": "stdout",
     "output_type": "stream",
     "text": [
      "0\n"
     ]
    }
   ],
   "source": [
    "import random\n",
    "choice=[\"heads\",\"tails\"]\n",
    "dec=random.randint(0,3)\n",
    "print(dec)"
   ]
  },
  {
   "cell_type": "code",
   "execution_count": 151,
   "metadata": {},
   "outputs": [
    {
     "name": "stdout",
     "output_type": "stream",
     "text": [
      "['****', '*  *', '*  *', '****']\n"
     ]
    }
   ],
   "source": [
    "n=4\n",
    "l1=['*'*n if i==0 or i==n-1 else '*'+' '*(n-2)+'*' for i in range(n)]\n",
    "print(l1)"
   ]
  },
  {
   "cell_type": "code",
   "execution_count": 166,
   "metadata": {},
   "outputs": [
    {
     "name": "stdout",
     "output_type": "stream",
     "text": [
      "['  *  ', ' *** ', '*****']\n"
     ]
    }
   ],
   "source": [
    "n=3\n",
    "l12=[]\n",
    "for i in range(1,n+1):\n",
    "    stars='*'*(2*i-1)\n",
    "    spaces=' '*(n-i)\n",
    "    l12.append(spaces+stars+spaces)\n",
    "\n",
    "print(l12)"
   ]
  },
  {
   "cell_type": "code",
   "execution_count": 162,
   "metadata": {},
   "outputs": [
    {
     "ename": "NameError",
     "evalue": "name 'char' is not defined",
     "output_type": "error",
     "traceback": [
      "\u001b[31m---------------------------------------------------------------------------\u001b[39m",
      "\u001b[31mNameError\u001b[39m                                 Traceback (most recent call last)",
      "\u001b[36mCell\u001b[39m\u001b[36m \u001b[39m\u001b[32mIn[162]\u001b[39m\u001b[32m, line 2\u001b[39m\n\u001b[32m      1\u001b[39m ss=[\u001b[33m'\u001b[39m\u001b[33mhiiansa\u001b[39m\u001b[33m'\u001b[39m,\u001b[33m'\u001b[39m\u001b[33mdefevfdv\u001b[39m\u001b[33m'\u001b[39m,\u001b[33m'\u001b[39m\u001b[33mffefefe\u001b[39m\u001b[33m'\u001b[39m]\n\u001b[32m----> \u001b[39m\u001b[32m2\u001b[39m ss[\u001b[32m1\u001b[39m][\u001b[32m2\u001b[39m]=\u001b[43mchar\u001b[49m(\u001b[33m'\u001b[39m\u001b[33ma\u001b[39m\u001b[33m'\u001b[39m)\n",
      "\u001b[31mNameError\u001b[39m: name 'char' is not defined"
     ]
    }
   ],
   "source": [
    "ss=['hiiansa','defevfdv','ffefefe']\n",
    "ss[1][2]=char('a')"
   ]
  },
  {
   "cell_type": "code",
   "execution_count": 192,
   "metadata": {},
   "outputs": [
    {
     "name": "stdout",
     "output_type": "stream",
     "text": [
      "[' 1  ', '1 2 ', '1 2 3', '1 2 3 4']\n"
     ]
    }
   ],
   "source": [
    "\n",
    "n=4\n",
    "l1=[]\n",
    "str1=\"\"\n",
    "for i in range(1,n+1):\n",
    "    for j in range(1,i+1):\n",
    "        str1=str1+\" \"+str(j)\n",
    "    str2=str1.strip()\n",
    "    l1.append(str2.center(n,\" \"))\n",
    "    str1=\"\"\n",
    "print(l1)\n"
   ]
  },
  {
   "cell_type": "code",
   "execution_count": 195,
   "metadata": {},
   "outputs": [
    {
     "name": "stdout",
     "output_type": "stream",
     "text": [
      "[{'a': 3}, {'b': 2}, {'c': 2}, {'a': 2}, {'b': 1}, {'d': 2}, {'k': 1}]\n"
     ]
    }
   ],
   "source": [
    "st=\"aaabbccaabddk\"\n",
    "lt=[]\n",
    "i=0\n",
    "ct=1\n",
    "while i<len(st):\n",
    "    if i!=len(st)-1:\n",
    "        if st[i]==st[i+1]:\n",
    "            ct+=1\n",
    "            i+=1\n",
    "        else:\n",
    "            lt.append({st[i]:ct})\n",
    "            ct=1\n",
    "            i+=1\n",
    "    else:\n",
    "        if st[i]==st[i-1]:\n",
    "            lt.append({st[i]:ct})\n",
    "            ct=1\n",
    "            i+=1\n",
    "        else:\n",
    "            lt.append({st[i]:1})\n",
    "            ct=1\n",
    "            i+=1\n",
    "print(lt)\n"
   ]
  },
  {
   "cell_type": "code",
   "execution_count": 205,
   "metadata": {},
   "outputs": [
    {
     "name": "stdout",
     "output_type": "stream",
     "text": [
      "1\n",
      "2\n",
      "3\n",
      "5\n"
     ]
    }
   ],
   "source": [
    "def series(a,b,n):\n",
    "    if n==2:\n",
    "        pass\n",
    "    else:\n",
    "        c=a+b\n",
    "        print(c)\n",
    "        n-=1\n",
    "        series(b,c,n)\n",
    "\n",
    "    \n",
    "series(0,1,6)"
   ]
  },
  {
   "cell_type": "code",
   "execution_count": 209,
   "metadata": {},
   "outputs": [
    {
     "name": "stdout",
     "output_type": "stream",
     "text": [
      "['s', 'j', 't', 'y', 'a']\n"
     ]
    }
   ],
   "source": [
    "ol=\"sutya\"\n",
    "ol=list(ol)\n",
    "ol[1]=\"j\"\n",
    "print(ol)"
   ]
  }
 ],
 "metadata": {
  "kernelspec": {
   "display_name": "Python 3",
   "language": "python",
   "name": "python3"
  },
  "language_info": {
   "codemirror_mode": {
    "name": "ipython",
    "version": 3
   },
   "file_extension": ".py",
   "mimetype": "text/x-python",
   "name": "python",
   "nbconvert_exporter": "python",
   "pygments_lexer": "ipython3",
   "version": "3.13.2"
  }
 },
 "nbformat": 4,
 "nbformat_minor": 2
}
