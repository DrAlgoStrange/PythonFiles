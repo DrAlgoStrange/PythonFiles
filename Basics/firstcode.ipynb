{
 "cells": [
  {
   "cell_type": "code",
   "execution_count": null,
   "metadata": {},
   "outputs": [],
   "source": [
    "nested_dict = {\n",
    "    'level1': {\n",
    "        'level2a': {\n",
    "            'level3a': 'value1',\n",
    "            'level3b': 'value2'\n",
    "        },\n",
    "        'level2b': 'value3'\n",
    "    },\n",
    "    'level1b': 'value4'\n",
    "}\n",
    "print(nested_dict.get('level1').get('level2a').get('level3a'))"
   ]
  },
  {
   "cell_type": "code",
   "execution_count": null,
   "metadata": {},
   "outputs": [],
   "source": [
    "#code to count the frequency of elemnts in a dictionary\n",
    "numbers=[1,1,3,3,3,4,2,2,2,2,5]\n",
    "freq_dict={i: freq_dict[i]=freq_dict[i]+1 if i in freq_dict   else freq_dict[i]=1 for i in numbers}\n",
    "print(freq_dict)\n",
    "\n",
    " \n",
    "\n"
   ]
  },
  {
   "cell_type": "code",
   "execution_count": null,
   "metadata": {},
   "outputs": [],
   "source": [
    "freq1={}\n",
    "for i in numbers:\n",
    "    if i in freq1:\n",
    "        freq1[i]+=1\n",
    "    else:\n",
    "        freq1[i]=1\n",
    "print(freq1)\n",
    "\n",
    "\n",
    "\n"
   ]
  },
  {
   "cell_type": "code",
   "execution_count": null,
   "metadata": {},
   "outputs": [],
   "source": [
    "a=2\n",
    "b=3\n",
    "print(type(a))\n",
    "if(a>b):\n",
    "    a=a+b\n",
    "    b=a-b\n",
    "    a=a-b\n",
    "else:\n",
    "    b=a+b\n",
    "    a=b-a\n",
    "    b=b-a\n",
    "print(f\"a={a},b={b}\")"
   ]
  },
  {
   "cell_type": "code",
   "execution_count": null,
   "metadata": {},
   "outputs": [],
   "source": [
    "word1=\"suryaaaa\"\n",
    "word2=\"nath\"\n",
    "minlen= len(word1) if len(word1)<len(word2) else len(word2)\n",
    "print(minlen)\n",
    "word1[4:]"
   ]
  },
  {
   "cell_type": "code",
   "execution_count": null,
   "metadata": {},
   "outputs": [],
   "source": [
    "l1=[\"apple\", \"banana\", \"apple\"]\n",
    "l2=[\"banana\", \"cherry\", \"date\"]\n",
    "print(l1+l2)"
   ]
  },
  {
   "cell_type": "code",
   "execution_count": null,
   "metadata": {},
   "outputs": [],
   "source": [
    "list1=[1,1,1,2,2,2,4,5,5,6,6,6,9,9,7,6,6]\n",
    "freqdict={i:list1.count(i) for i in list1}\n",
    "maxval=max(freqdict.values())\n",
    "for a,b in freqdict.items():\n",
    "    if b==maxval:\n",
    "        print(f\"{a},{b}\")"
   ]
  },
  {
   "cell_type": "code",
   "execution_count": null,
   "metadata": {},
   "outputs": [],
   "source": [
    "li=[\"apple\", \"ant\", \"banana\", \"bat\", \"car\"]\n",
    "d1={}\n",
    "for i in li:\n",
    "    if i[0] not in d1.keys():\n",
    "        d1[i[0]]=[i]\n",
    "    else:\n",
    "        d1[i[0]].append(i)\n",
    "d1"
   ]
  },
  {
   "cell_type": "code",
   "execution_count": null,
   "metadata": {},
   "outputs": [],
   "source": [
    "def isev(a):\n",
    "    return \"True\" if(a%2==0) else \"False\"\n",
    "\n",
    "print(isev(7))"
   ]
  },
  {
   "cell_type": "code",
   "execution_count": null,
   "metadata": {},
   "outputs": [],
   "source": [
    "passa=\"Surya@123\"\n",
    "print(passa.isalnum())"
   ]
  },
  {
   "cell_type": "code",
   "execution_count": null,
   "metadata": {},
   "outputs": [],
   "source": [
    "cart=[\n",
    "    {\"name\":\"apples\",\"quantity\":10,\"price_per_unit\":100},\n",
    "    {\"name\":\"mangoes\",\"quantity\":10,\"price_per_unit\":100},\n",
    "    {\"name\":\"grapes\",\"quantity\":1,\"price_per_unit\":100}\n",
    "]\n",
    "\n",
    "def totalval(cart):\n",
    "    total_price=0\n",
    "    for i in cart:\n",
    "        total_price+=i[\"price_per_unit\"]*i[\"quantity\"]\n",
    "    return total_price\n",
    "print(totalval(cart))\n",
    "    \n",
    "            \n"
   ]
  },
  {
   "cell_type": "code",
   "execution_count": null,
   "metadata": {},
   "outputs": [],
   "source": [
    "a=\"aaab\"\n",
    "if(a==a[::-1]):\n",
    "    print(\"t\")\n",
    "else:\n",
    "    print(\"f\")\n",
    "    "
   ]
  },
  {
   "cell_type": "code",
   "execution_count": null,
   "metadata": {},
   "outputs": [],
   "source": [
    "import copy\n",
    "l10=[1,2,[9,99,90],80]\n",
    "\n",
    "l20=copy.deepcopy(l10)\n",
    "l20[1]=10\n",
    "l20[2][2]=0\n",
    "print(l10)\n",
    "print(l20)"
   ]
  },
  {
   "cell_type": "code",
   "execution_count": null,
   "metadata": {},
   "outputs": [],
   "source": [
    "import random\n",
    "a1=['1','2','3','4','5','6','7','8','9']\n",
    "print(list(map(lambda l:int(l),a1)))\n",
    "list(map(lambda i:i[\"name\"],cart))\n",
    "print(a1[random.randint(0,len(a1)-1)])"
   ]
  },
  {
   "cell_type": "code",
   "execution_count": null,
   "metadata": {},
   "outputs": [],
   "source": [
    "list(filter(lambda x:x[\"quantity\"]>5,cart))"
   ]
  },
  {
   "cell_type": "code",
   "execution_count": null,
   "metadata": {},
   "outputs": [],
   "source": [
    "even_grt=lambda x:x>5 and x%2==0\n",
    "even_grt(5)"
   ]
  },
  {
   "cell_type": "code",
   "execution_count": null,
   "metadata": {},
   "outputs": [],
   "source": [
    "astr=\"   !@#$suryanath!@#$%^\"\n",
    "print(astr.strip('!@#$%^ '))\n",
    "asd='  '+astr.strip('!@#$%^ ')\n",
    "print(asd.isalnum())"
   ]
  },
  {
   "cell_type": "code",
   "execution_count": null,
   "metadata": {},
   "outputs": [],
   "source": [
    "import random\n",
    "choice=[\"heads\",\"tails\"]\n",
    "dec=random.randint(0,3)\n",
    "print(dec)"
   ]
  },
  {
   "cell_type": "code",
   "execution_count": null,
   "metadata": {},
   "outputs": [],
   "source": [
    "n=4\n",
    "l1=['*'*n if i==0 or i==n-1 else '*'+' '*(n-2)+'*' for i in range(n)]\n",
    "print(l1)"
   ]
  },
  {
   "cell_type": "code",
   "execution_count": null,
   "metadata": {},
   "outputs": [],
   "source": [
    "n=3\n",
    "l12=[]\n",
    "for i in range(1,n+1):\n",
    "    stars='*'*(2*i-1)\n",
    "    spaces=' '*(n-i)\n",
    "    l12.append(spaces+stars+spaces)\n",
    "\n",
    "print(l12)"
   ]
  },
  {
   "cell_type": "code",
   "execution_count": null,
   "metadata": {},
   "outputs": [],
   "source": [
    "ss=['hiiansa','defevfdv','ffefefe']\n",
    "ss[1][2]=char('a')"
   ]
  },
  {
   "cell_type": "code",
   "execution_count": null,
   "metadata": {},
   "outputs": [],
   "source": [
    "\n",
    "n=4\n",
    "l1=[]\n",
    "str1=\"\"\n",
    "for i in range(1,n+1):\n",
    "    for j in range(1,i+1):\n",
    "        str1=str1+\" \"+str(j)\n",
    "    str2=str1.strip()\n",
    "    l1.append(str2.center(n,\" \"))\n",
    "    str1=\"\"\n",
    "print(l1)\n"
   ]
  },
  {
   "cell_type": "code",
   "execution_count": null,
   "metadata": {},
   "outputs": [],
   "source": [
    "st=\"aaabbccaabddk\"\n",
    "lt=[]\n",
    "i=0\n",
    "ct=1\n",
    "while i<len(st):\n",
    "    if i!=len(st)-1:\n",
    "        if st[i]==st[i+1]:\n",
    "            ct+=1\n",
    "            i+=1\n",
    "        else:\n",
    "            lt.append({st[i]:ct})\n",
    "            ct=1\n",
    "            i+=1\n",
    "    else:\n",
    "        if st[i]==st[i-1]:\n",
    "            lt.append({st[i]:ct})\n",
    "            ct=1\n",
    "            i+=1\n",
    "        else:\n",
    "            lt.append({st[i]:1})\n",
    "            ct=1\n",
    "            i+=1\n",
    "print(lt)\n"
   ]
  },
  {
   "cell_type": "code",
   "execution_count": null,
   "metadata": {},
   "outputs": [],
   "source": [
    "def series(a,b,n):\n",
    "    if n==2:\n",
    "        pass\n",
    "    else:\n",
    "        c=a+b\n",
    "        print(c)\n",
    "        n-=1\n",
    "        series(b,c,n)\n",
    "\n",
    "    \n",
    "series(0,1,6)"
   ]
  },
  {
   "cell_type": "code",
   "execution_count": null,
   "metadata": {},
   "outputs": [],
   "source": [
    "ol=\"sutya\"\n",
    "ol=list(ol)\n",
    "ol[1]=\"j\"\n",
    "print(''.join(ol))"
   ]
  },
  {
   "cell_type": "code",
   "execution_count": null,
   "metadata": {},
   "outputs": [],
   "source": [
    "def count_vowels(s):\n",
    "    vowels = set('aeiouAEIOU')\n",
    "    return sum(1 for char in s if char in vowels)\n",
    "\n",
    "print(list(count_vowels(\"asde\")))"
   ]
  },
  {
   "cell_type": "code",
   "execution_count": null,
   "metadata": {},
   "outputs": [],
   "source": [
    "lm1=list((i for i in range(10) if i%2==0 ))\n",
    "print(lm1)"
   ]
  },
  {
   "cell_type": "code",
   "execution_count": null,
   "metadata": {},
   "outputs": [],
   "source": [
    "l1=[]\n",
    "l2=[11,2,3]\n",
    "l1=l1+l2\n",
    "print(sorted(l1))"
   ]
  },
  {
   "cell_type": "code",
   "execution_count": null,
   "metadata": {},
   "outputs": [],
   "source": [
    "def is_palindromic_tuple(tup):\n",
    "    start=0\n",
    "    last=len(tup)-1\n",
    "    while start<last:\n",
    "        if  tup[start]!=tup[last]:\n",
    "            return False\n",
    "        else:\n",
    "            start+=1  \n",
    "            last-=1\n",
    "    return True\n",
    "is_palindromic_tuple((2,3,4,5))"
   ]
  },
  {
   "cell_type": "code",
   "execution_count": null,
   "metadata": {},
   "outputs": [],
   "source": [
    "def remove_duplicate(nums):\n",
    "    i=0\n",
    "    j=1\n",
    "    a=1\n",
    "    while (i<len(nums) and j<len(nums)):\n",
    "        while(j<len(nums) and nums[i]==nums[j]):\n",
    "            j+=1\n",
    "        if j<len(nums):\n",
    "            nums[a]=nums[j]\n",
    "            i=j\n",
    "            j=i+1\n",
    "            a=a+1\n",
    "    return nums[0:a]\n",
    "print(remove_duplicate([0,0,1,1,1,2,2,3,3,3]))"
   ]
  },
  {
   "cell_type": "code",
   "execution_count": null,
   "metadata": {},
   "outputs": [],
   "source": [
    "def remove_duplicate(nums):\n",
    "    unique_dict={}\n",
    "    for i in nums:\n",
    "        if i in unique_dict.keys():\n",
    "                continue\n",
    "        else:\n",
    "                unique_dict[i]=1\n",
    "    return int(len(unique_dict.keys()))\n",
    "print(remove_duplicate([0,0,1,1,1,2,2,3,3,4]))"
   ]
  },
  {
   "cell_type": "code",
   "execution_count": null,
   "metadata": {},
   "outputs": [],
   "source": [
    "a=20\n",
    "print(a<<3)\n",
    "print(bin(a))\n",
    "print(bin(a<<4))\n",
    "\n"
   ]
  },
  {
   "cell_type": "code",
   "execution_count": null,
   "metadata": {},
   "outputs": [],
   "source": [
    "def select_sort(nums):\n",
    "    for i in range(len(nums)-1):\n",
    "        for j in range(i+1,len(nums)):\n",
    "            if nums[i]>nums[j]:\n",
    "                nums[i],nums[j]=nums[j],nums[i]\n",
    "    return nums\n",
    "\n",
    "l1=[1,2,3,4,5,90,-1]\n",
    "print(insert_sort(l1))"
   ]
  },
  {
   "cell_type": "code",
   "execution_count": null,
   "metadata": {},
   "outputs": [],
   "source": [
    "def insert_sort(nums):\n",
    "    for i in range(1,len(nums)):\n",
    "        j=i\n",
    "        while j!=0 and nums[j]<nums[j-1]:\n",
    "            nums[j],nums[j-1]=nums[j-1],nums[j]\n",
    "            j-=1\n",
    "    return nums\n",
    "#l1=[90,77,700,8]\n",
    "print(insert_sort(l1))\n",
    "    "
   ]
  },
  {
   "cell_type": "code",
   "execution_count": null,
   "metadata": {},
   "outputs": [],
   "source": [
    "import sys\n",
    "a=sys.maxsize\n",
    "print(a)"
   ]
  },
  {
   "cell_type": "code",
   "execution_count": null,
   "metadata": {},
   "outputs": [],
   "source": [
    "import array\n",
    "arr=array.array('i',[10]*7)\n",
    "print(arr.append(90))\n",
    "print(arr)"
   ]
  },
  {
   "cell_type": "code",
   "execution_count": null,
   "metadata": {},
   "outputs": [],
   "source": [
    "def sum_natural(n):\n",
    "    if n==1 or n==0:\n",
    "        return n\n",
    "    else:\n",
    "        return(n+sum_natural(n-1))\n",
    "    \n",
    "sum_natural(10000)"
   ]
  },
  {
   "cell_type": "code",
   "execution_count": null,
   "metadata": {},
   "outputs": [],
   "source": [
    "def hlt(l1):\n",
    "    l3=l1.copy()\n",
    "    l3[0]=900\n",
    "    l3[1]=879\n",
    "l1=[123,34,56,78,12]\n",
    "l9=l1\n",
    "print(l1)\n",
    "hlt(l1)\n",
    "print(l9)"
   ]
  },
  {
   "cell_type": "code",
   "execution_count": null,
   "metadata": {},
   "outputs": [],
   "source": [
    "a=36\n",
    "b=9\n",
    "while a>0 and b>0:\n",
    "    a,b=max(a,b),min(a,b)\n",
    "    \n",
    "    a=a%b\n",
    "print(max(a,b))\n"
   ]
  },
  {
   "cell_type": "code",
   "execution_count": null,
   "metadata": {},
   "outputs": [],
   "source": [
    "ast=[3,222,9,100,400,400,400,222,6,7,8,9,100,9]\n",
    "h=set()\n",
    "for i in ast:\n",
    "    h.add(i)\n",
    "print(h)\n"
   ]
  },
  {
   "cell_type": "code",
   "execution_count": null,
   "metadata": {},
   "outputs": [],
   "source": [
    "nested_dict = {\n",
    "    'level1': {\n",
    "        'level2a': {\n",
    "            'level3a': 'value1',\n",
    "            'level3b': 'value2'\n",
    "        },\n",
    "        'level2b': 'value3'\n",
    "    },\n",
    "    'level1b': 'value4'\n",
    "}\n",
    "with open(\"dictionary.txt\",'w') as file:\n",
    "    file .write(str(nested_dict))\n",
    "file.close()\n",
    "nested_dict = {\n",
    "    'level1': {\n",
    "        'level2a': {\n",
    "            'level3a': 'value1',\n",
    "            'level3b': 'value2',\n",
    "            'level3c': 'value5'\n",
    "        },\n",
    "        'level2b': 'value3'\n",
    "    },\n",
    "    'level1b': 'value4'\n",
    "}\n",
    "with open(\"dictionary.txt\",'a') as file:\n",
    "    file .write('\\n'+str(nested_dict))\n",
    "file.close()"
   ]
  },
  {
   "cell_type": "code",
   "execution_count": null,
   "metadata": {},
   "outputs": [],
   "source": [
    "a=\"lnlgblg\"\n",
    "a=list(a)\n",
    "print(a.index(\"n\"))\n",
    "a"
   ]
  },
  {
   "cell_type": "code",
   "execution_count": null,
   "metadata": {},
   "outputs": [],
   "source": [
    "import random\n",
    "word_list=['apple', 'brick', 'chair', 'dance', 'eagle', 'flame', 'grape', 'honey', 'ivory', 'jelly', 'knock', 'lemon', 'mango', 'noble', 'ocean', 'plant', 'queen', 'river', 'stone', 'tiger', 'uncle', 'vivid', 'wheat', 'xenon', 'youth', 'zebra']\n",
    "\n",
    "choosen_word=random.choice(word_list)\n",
    "# user_entered_string=choosen_word[0]+(\"_\"*(len(choosen_word)-1))\n",
    "print(choosen_word)\n",
    "lives=4\n",
    "compare_word=list(choosen_word[1:])\n",
    "print(compare_word)\n",
    "updatedstr=[choosen_word[0] if i==0 else \"_\" for i in range(len(choosen_word))]\n",
    "print(updatedstr)\n",
    "\n",
    "\n",
    "while lives!=0 and len(compare_word)!=0:\n",
    "    print(\"Lives Left\",lives)\n",
    "    guess_letter=input(\"guess a letter\")\n",
    "    if guess_letter in compare_word:\n",
    "        compare_word.remove(guess_letter)\n",
    "        updatedstr[compare_word.index(guess_letter)+1]=guess_letter\n",
    "        compare_word.remove(guess_letter)\n",
    "    else:\n",
    "        print(\"wrong guess\")\n",
    "        lives=lives-1"
   ]
  },
  {
   "cell_type": "code",
   "execution_count": null,
   "metadata": {},
   "outputs": [],
   "source": [
    "n=5\n",
    "for i in range(1,n+1):\n",
    "    space=\" \"*(n-i)\n",
    "    stars=\"*\"*((2*i)-1)\n",
    "    print(space+stars+space)\n",
    "for j in range(n-1,0,-1):\n",
    "    space=\" \"*(n-j)\n",
    "    stars=\"*\"*((2*j)-1)\n",
    "    print(space+stars+space)"
   ]
  },
  {
   "cell_type": "code",
   "execution_count": null,
   "metadata": {},
   "outputs": [],
   "source": [
    "n=6\n",
    "no_space=(2*n)-2\n",
    "fstr=\"\"\n",
    "bstr=\"\"\n",
    "for i in range(1,n+1):\n",
    "    for j in range(1,i+1):\n",
    "        fstr+=str(j)\n",
    "    for k in range(i,0,-1):\n",
    "        bstr+=str(k)\n",
    "    print(fstr+\" \"*no_space+bstr)\n",
    "    fstr=\"\"\n",
    "    bstr=\"\"\n",
    "    no_space=no_space-2"
   ]
  },
  {
   "cell_type": "code",
   "execution_count": null,
   "metadata": {},
   "outputs": [],
   "source": [
    "cn_lst=[0]*26\n",
    "cn_str=\"aabbacddbdca\"\n",
    "for i in cn_str:\n",
    "    cn_lst[ord(i)-97]+=1\n",
    "    print(chr(ord(i)))\n",
    "print(cn_lst)"
   ]
  },
  {
   "cell_type": "code",
   "execution_count": 4,
   "metadata": {},
   "outputs": [
    {
     "ename": "IndexError",
     "evalue": "list index out of range",
     "output_type": "error",
     "traceback": [
      "\u001b[31m---------------------------------------------------------------------------\u001b[39m",
      "\u001b[31mIndexError\u001b[39m                                Traceback (most recent call last)",
      "\u001b[36mCell\u001b[39m\u001b[36m \u001b[39m\u001b[32mIn[4]\u001b[39m\u001b[32m, line 2\u001b[39m\n\u001b[32m      1\u001b[39m lk=[]\n\u001b[32m----> \u001b[39m\u001b[32m2\u001b[39m \u001b[38;5;28mprint\u001b[39m(\u001b[43mlk\u001b[49m\u001b[43m[\u001b[49m\u001b[43m-\u001b[49m\u001b[32;43m1\u001b[39;49m\u001b[43m]\u001b[49m)\n",
      "\u001b[31mIndexError\u001b[39m: list index out of range"
     ]
    }
   ],
   "source": [
    "lk=[]\n",
    "print(lk[-1])"
   ]
  },
  {
   "cell_type": "code",
   "execution_count": 11,
   "metadata": {},
   "outputs": [
    {
     "name": "stdout",
     "output_type": "stream",
     "text": [
      "None\n",
      "0\n",
      "{1: 2, 6: 0}\n"
     ]
    }
   ],
   "source": [
    "dic={1:2,6:0}\n",
    "print(dic.get(10,None))\n",
    "print(dic.get(6,None))\n",
    "print(dic)"
   ]
  }
 ],
 "metadata": {
  "kernelspec": {
   "display_name": "Python 3",
   "language": "python",
   "name": "python3"
  },
  "language_info": {
   "codemirror_mode": {
    "name": "ipython",
    "version": 3
   },
   "file_extension": ".py",
   "mimetype": "text/x-python",
   "name": "python",
   "nbconvert_exporter": "python",
   "pygments_lexer": "ipython3",
   "version": "3.13.2"
  }
 },
 "nbformat": 4,
 "nbformat_minor": 2
}
