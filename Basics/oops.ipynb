{
 "cells": [
  {
   "cell_type": "markdown",
   "metadata": {},
   "source": [
    "All my object oriented codes are here"
   ]
  },
  {
   "cell_type": "code",
   "execution_count": 37,
   "metadata": {},
   "outputs": [
    {
     "name": "stdout",
     "output_type": "stream",
     "text": [
      "jaspreet,90012,22\n"
     ]
    }
   ],
   "source": [
    "\n",
    "''''Creating a normal python class program and check for the scope of the self in the class method'''\n",
    "\n",
    "class student:\n",
    "    def __init__(surya,name,age,rollno):\n",
    "        surya.name=name\n",
    "        surya.age=age\n",
    "        surya.rollno=rollno\n",
    "    def print_details(surya):\n",
    "        print(f\"{name},{surya.rollno},{surya.age}\")\n",
    "try:\n",
    "    st1=student('Shyam',22,90012)\n",
    "    st1.print_details()\n",
    "except Exception as er:\n",
    "    print(er)"
   ]
  },
  {
   "cell_type": "code",
   "execution_count": 36,
   "metadata": {},
   "outputs": [
    {
     "name": "stdout",
     "output_type": "stream",
     "text": [
      "jaspreet,10098,34,brown\n"
     ]
    }
   ],
   "source": [
    "class child:\n",
    "    def __init__(self,height,weight,iq):\n",
    "        self.height=height\n",
    "        self.weight=weight\n",
    "        self.iq=iq\n",
    "        self.hairs=\"brown\"\n",
    "\n",
    "class student(child):\n",
    "    grade=100\n",
    "    def __init__(surya,name,age,rollno,height,weight,iq):\n",
    "        child.__init__(surya,height,weight,iq)\n",
    "        surya.name=name\n",
    "        surya.age=age\n",
    "        surya.rollno=rollno\n",
    "        surya.grade=10\n",
    "    grade=1009\n",
    "    def print_details(surya):\n",
    "        print(f\"{name},{surya.rollno},{surya.age},{surya.hairs}\")\n",
    "\n",
    "\n",
    "st2=student('surya',34,10098,\"6ft\",\"89kg\",40)\n",
    "st2.print_details()\n",
    "\n",
    "c1=child(\"5ft\",\"50kg\",30)\n",
    "\n"
   ]
  }
 ],
 "metadata": {
  "kernelspec": {
   "display_name": "Python 3",
   "language": "python",
   "name": "python3"
  },
  "language_info": {
   "codemirror_mode": {
    "name": "ipython",
    "version": 3
   },
   "file_extension": ".py",
   "mimetype": "text/x-python",
   "name": "python",
   "nbconvert_exporter": "python",
   "pygments_lexer": "ipython3",
   "version": "3.13.2"
  }
 },
 "nbformat": 4,
 "nbformat_minor": 2
}
