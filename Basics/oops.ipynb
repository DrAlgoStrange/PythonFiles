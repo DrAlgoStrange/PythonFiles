{
 "cells": [
  {
   "cell_type": "markdown",
   "metadata": {},
   "source": [
    "All my object oriented codes are here"
   ]
  },
  {
   "cell_type": "code",
   "execution_count": null,
   "metadata": {},
   "outputs": [],
   "source": [
    "\n",
    "''''Creating a normal python class program and check for the scope of the self in the class method'''\n",
    "\n",
    "class student:\n",
    "    def __init__(surya,name,age,rollno):\n",
    "        surya.name=name\n",
    "        surya.age=age\n",
    "        surya.rollno=rollno\n",
    "    def print_details(surya):\n",
    "        print(f\"{name},{surya.rollno},{surya.age}\")\n",
    "try:\n",
    "    st1=student('Shyam',22,90012)\n",
    "    st1.print_details()\n",
    "except Exception as er:\n",
    "    print(er)"
   ]
  },
  {
   "cell_type": "code",
   "execution_count": null,
   "metadata": {},
   "outputs": [],
   "source": [
    "class child:\n",
    "    def __init__(self,height,weight,iq):\n",
    "        self.height=height\n",
    "        self.weight=weight\n",
    "        self.iq=iq\n",
    "        self.hairs=\"brown\"\n",
    "    def character(self,phase):\n",
    "        return f\"{phase}\"\n",
    "\n",
    "class student(child):\n",
    "    grade=100\n",
    "    def __init__(surya,name,age,rollno,height,weight,iq):\n",
    "        super().__init__(height,weight,iq)\n",
    "        surya.name=name\n",
    "        surya.age=age\n",
    "        surya.__rollno=rollno\n",
    "        surya.grade=10\n",
    "    grade=1009\n",
    "    def print_details(surya):\n",
    "        print(f\"{surya.name},{surya.__rollno},{surya.age},{surya.weight}\")\n",
    "    def call_child(self,obj,phase):\n",
    "        obj.character(phase)\n",
    "\n",
    "\n",
    "st2=student('surya',34,10098,\"6ft\",\"89kg\",40)\n",
    "st2.print_details()\n",
    "\n",
    "c1=child(\"5ft\",\"50kg\",30)\n",
    "st2.call_child(c1,)\n",
    "\n"
   ]
  },
  {
   "cell_type": "code",
   "execution_count": null,
   "metadata": {},
   "outputs": [],
   "source": [
    "nums=[1,1,3,5,5,5]\n",
    "cn= Counter(nums)"
   ]
  },
  {
   "cell_type": "code",
   "execution_count": 7,
   "metadata": {},
   "outputs": [
    {
     "name": "stdout",
     "output_type": "stream",
     "text": [
      "11 i,22 j,33 k\n",
      "<class '__main__.vector'>\n"
     ]
    }
   ],
   "source": [
    "class vector:\n",
    "    def __init__(self,i,j,k):\n",
    "        self.i=i\n",
    "        self.j=j\n",
    "        self.k=k\n",
    "\n",
    "    def __add__(self,other):\n",
    "        return vector(self.i+other.i ,self.j+other.j, self.k+other.k)\n",
    "    \n",
    "    def __str__(self):\n",
    "        return f\"{self.i} i,{self.j} j,{self.k} k\"\n",
    "    \n",
    "\n",
    "v1=vector(10,20,30)\n",
    "v2=vector(1,2,3)\n",
    "print(v1+v2)\n",
    "print(type(v1))"
   ]
  }
 ],
 "metadata": {
  "kernelspec": {
   "display_name": "Python 3",
   "language": "python",
   "name": "python3"
  },
  "language_info": {
   "codemirror_mode": {
    "name": "ipython",
    "version": 3
   },
   "file_extension": ".py",
   "mimetype": "text/x-python",
   "name": "python",
   "nbconvert_exporter": "python",
   "pygments_lexer": "ipython3",
   "version": "3.13.2"
  }
 },
 "nbformat": 4,
 "nbformat_minor": 2
}
