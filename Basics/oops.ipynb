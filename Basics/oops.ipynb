{
 "cells": [
  {
   "cell_type": "markdown",
   "metadata": {},
   "source": [
    "All my object oriented codes are here"
   ]
  },
  {
   "cell_type": "code",
   "execution_count": null,
   "metadata": {},
   "outputs": [],
   "source": [
    "\n",
    "''''Creating a normal python class program and check for the scope of the self in the class method'''\n",
    "\n",
    "class student:\n",
    "    def __init__(surya,name,age,rollno):\n",
    "        surya.name=name\n",
    "        surya.age=age\n",
    "        surya.rollno=rollno\n",
    "    def print_details(surya):\n",
    "        print(f\"{name},{surya.rollno},{surya.age}\")\n",
    "try:\n",
    "    st1=student('Shyam',22,90012)\n",
    "    st1.print_details()\n",
    "except Exception as er:\n",
    "    print(er)"
   ]
  },
  {
   "cell_type": "code",
   "execution_count": null,
   "metadata": {},
   "outputs": [],
   "source": [
    "class child:\n",
    "    def __init__(self,height,weight,iq):\n",
    "        self.height=height\n",
    "        self.weight=weight\n",
    "        self.iq=iq\n",
    "        self.hairs=\"brown\"\n",
    "    def character(self,phase):\n",
    "        return f\"{phase}\"\n",
    "\n",
    "class student(child):\n",
    "    grade=100\n",
    "    def __init__(surya,name,age,rollno,height,weight,iq):\n",
    "        super().__init__(height,weight,iq)\n",
    "        surya.name=name\n",
    "        surya.age=age\n",
    "        surya.__rollno=rollno\n",
    "        surya.grade=10\n",
    "    grade=1009\n",
    "    def print_details(surya):\n",
    "        print(f\"{surya.name},{surya.__rollno},{surya.age},{surya.weight}\")\n",
    "    def call_child(self,obj,phase):\n",
    "        obj.character(phase)\n",
    "\n",
    "\n",
    "st2=student('surya',34,10098,\"6ft\",\"89kg\",40)\n",
    "st2.print_details()\n",
    "\n",
    "c1=child(\"5ft\",\"50kg\",30)\n",
    "st2.call_child(c1,)\n",
    "\n"
   ]
  },
  {
   "cell_type": "code",
   "execution_count": null,
   "metadata": {},
   "outputs": [],
   "source": [
    "nums=[1,1,3,5,5,5]\n",
    "cn= Counter(nums)"
   ]
  },
  {
   "cell_type": "code",
   "execution_count": 7,
   "metadata": {},
   "outputs": [
    {
     "name": "stdout",
     "output_type": "stream",
     "text": [
      "11 i,22 j,33 k\n",
      "<class '__main__.vector'>\n"
     ]
    }
   ],
   "source": [
    "class vector:\n",
    "    def __init__(self,i,j,k):\n",
    "        self.i=i\n",
    "        self.j=j\n",
    "        self.k=k\n",
    "\n",
    "    def __add__(self,other):\n",
    "        return vector(self.i+other.i ,self.j+other.j, self.k+other.k)\n",
    "    \n",
    "    def __str__(self):\n",
    "        return f\"{self.i} i,{self.j} j,{self.k} k\"\n",
    "    \n",
    "\n",
    "v1=vector(10,20,30)\n",
    "v2=vector(1,2,3)\n",
    "print(v1+v2)\n",
    "print(type(v1))"
   ]
  },
  {
   "cell_type": "code",
   "execution_count": 15,
   "metadata": {},
   "outputs": [
    {
     "name": "stdout",
     "output_type": "stream",
     "text": [
      "900\n"
     ]
    }
   ],
   "source": [
    "testval=900\n",
    "class test:\n",
    "    testval=90\n",
    "    def __init__(self):\n",
    "        pass\n",
    "    def p_testval(self):\n",
    "        print(testval)\n",
    "\n",
    "t1=test()\n",
    "t1.p_testval()"
   ]
  },
  {
   "cell_type": "code",
   "execution_count": 18,
   "metadata": {},
   "outputs": [
    {
     "name": "stdout",
     "output_type": "stream",
     "text": [
      "True\n"
     ]
    }
   ],
   "source": [
    "i=10\n",
    "print(i not in range(0,10))"
   ]
  },
  {
   "cell_type": "code",
   "execution_count": 36,
   "metadata": {},
   "outputs": [
    {
     "name": "stdout",
     "output_type": "stream",
     "text": [
      "Hello from child function hi good job\n"
     ]
    },
    {
     "ename": "TypeError",
     "evalue": "'NoneType' object is not callable",
     "output_type": "error",
     "traceback": [
      "\u001b[31m---------------------------------------------------------------------------\u001b[39m",
      "\u001b[31mTypeError\u001b[39m                                 Traceback (most recent call last)",
      "\u001b[36mCell\u001b[39m\u001b[36m \u001b[39m\u001b[32mIn[36]\u001b[39m\u001b[32m, line 7\u001b[39m\n\u001b[32m      3\u001b[39m         \u001b[38;5;28mprint\u001b[39m(\u001b[33mf\u001b[39m\u001b[33m\"\u001b[39m\u001b[33mHello from child function \u001b[39m\u001b[38;5;132;01m{\u001b[39;00mword\u001b[38;5;132;01m}\u001b[39;00m\u001b[33m \u001b[39m\u001b[38;5;132;01m{\u001b[39;00mword2\u001b[38;5;132;01m}\u001b[39;00m\u001b[33m\"\u001b[39m)\n\u001b[32m      4\u001b[39m     \u001b[38;5;28;01mreturn\u001b[39;00m child()\n\u001b[32m----> \u001b[39m\u001b[32m7\u001b[39m a= \u001b[43mparent\u001b[49m\u001b[43m(\u001b[49m\u001b[33;43m\"\u001b[39;49m\u001b[33;43mhi\u001b[39;49m\u001b[33;43m\"\u001b[39;49m\u001b[43m)\u001b[49m\u001b[43m(\u001b[49m\u001b[33;43m\"\u001b[39;49m\u001b[33;43mggod going\u001b[39;49m\u001b[33;43m\"\u001b[39;49m\u001b[43m)\u001b[49m\n",
      "\u001b[31mTypeError\u001b[39m: 'NoneType' object is not callable"
     ]
    }
   ],
   "source": [
    "def parent(word=\"default\"):\n",
    "    def child(word2=\"good job\"):\n",
    "        print(f\"Hello from child function {word} {word2}\")\n",
    "    return child()\n",
    "    \n",
    "\n",
    "a= parent(\"hi\")\n"
   ]
  },
  {
   "cell_type": "code",
   "execution_count": 39,
   "metadata": {},
   "outputs": [
    {
     "name": "stdout",
     "output_type": "stream",
     "text": [
      "1\n"
     ]
    }
   ],
   "source": [
    "def cus_func(my_stamp):\n",
    "    l1=[1,2,3,45]\n",
    "    print(my_stamp(l1))\n",
    "\n",
    "cus_func(min)"
   ]
  },
  {
   "cell_type": "code",
   "execution_count": 41,
   "metadata": {},
   "outputs": [
    {
     "name": "stdout",
     "output_type": "stream",
     "text": [
      "False\n"
     ]
    }
   ],
   "source": [
    "print('z'<'b')"
   ]
  },
  {
   "cell_type": "code",
   "execution_count": 54,
   "metadata": {},
   "outputs": [
    {
     "name": "stdout",
     "output_type": "stream",
     "text": [
      "2\n",
      "t1\n",
      "1\n"
     ]
    }
   ],
   "source": [
    "def search(nums, target):\n",
    "        \"\"\"\n",
    "        :type nums: List[int]\n",
    "        :type target: int\n",
    "        :rtype: int\n",
    "        \"\"\"\n",
    "        start=0\n",
    "        end=len(nums)-1\n",
    "        while start<=end:\n",
    "            mid=(start+end)//2\n",
    "            if nums[mid]>nums[len(nums)-1]:\n",
    "                start=mid+1\n",
    "            else:\n",
    "                end=mid-1\n",
    "\n",
    "\n",
    "        print(start)\n",
    "        if target == nums[start]:\n",
    "            return start\n",
    "            \n",
    "            \n",
    "        elif target>nums[len(nums)-1]:\n",
    "            print(\"t1\")\n",
    "            end=start-1\n",
    "            start=0\n",
    "            while start<=end:\n",
    "                mid=(start+end)//2\n",
    "                if nums[mid]>target:\n",
    "                    end=mid-1\n",
    "                elif nums[mid]==target:\n",
    "                    return mid\n",
    "                else:\n",
    "                    start=mid+1\n",
    "                \n",
    "        else:\n",
    "            print(\"t2\")\n",
    "            end=len(nums)-1\n",
    "            while start<=end:\n",
    "                mid=(start+end)//2\n",
    "                if nums[mid]>target:\n",
    "                    end=mid-1\n",
    "                if nums[mid]==target:\n",
    "                    return mid\n",
    "                else:\n",
    "                    start=mid+1\n",
    "        \n",
    "        return -1\n",
    "\n",
    "print(search([8,9,2,3,4],9))"
   ]
  }
 ],
 "metadata": {
  "kernelspec": {
   "display_name": "Python 3",
   "language": "python",
   "name": "python3"
  },
  "language_info": {
   "codemirror_mode": {
    "name": "ipython",
    "version": 3
   },
   "file_extension": ".py",
   "mimetype": "text/x-python",
   "name": "python",
   "nbconvert_exporter": "python",
   "pygments_lexer": "ipython3",
   "version": "3.13.2"
  }
 },
 "nbformat": 4,
 "nbformat_minor": 2
}
