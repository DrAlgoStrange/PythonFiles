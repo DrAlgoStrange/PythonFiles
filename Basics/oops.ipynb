{
 "cells": [
  {
   "cell_type": "markdown",
   "metadata": {},
   "source": [
    "All my object oriented codes are here"
   ]
  },
  {
   "cell_type": "code",
   "execution_count": 37,
   "metadata": {},
   "outputs": [
    {
     "name": "stdout",
     "output_type": "stream",
     "text": [
      "jaspreet,90012,22\n"
     ]
    }
   ],
   "source": [
    "\n",
    "''''Creating a normal python class program and check for the scope of the self in the class method'''\n",
    "\n",
    "class student:\n",
    "    def __init__(surya,name,age,rollno):\n",
    "        surya.name=name\n",
    "        surya.age=age\n",
    "        surya.rollno=rollno\n",
    "    def print_details(surya):\n",
    "        print(f\"{name},{surya.rollno},{surya.age}\")\n",
    "try:\n",
    "    st1=student('Shyam',22,90012)\n",
    "    st1.print_details()\n",
    "except Exception as er:\n",
    "    print(er)"
   ]
  },
  {
   "cell_type": "code",
   "execution_count": 9,
   "metadata": {},
   "outputs": [
    {
     "name": "stdout",
     "output_type": "stream",
     "text": [
      "surya,10098,34\n",
      "triggred\n"
     ]
    }
   ],
   "source": [
    "class child:\n",
    "    def __init__(self,height,weight,iq):\n",
    "        self.height=height\n",
    "        self.weight=weight\n",
    "        self.iq=iq\n",
    "        self.hairs=\"brown\"\n",
    "    def character(self,phase):\n",
    "        return f\"{phase}\"\n",
    "\n",
    "class student(child):\n",
    "    grade=100\n",
    "    def __init__(surya,name,age,rollno,height,weight,iq):\n",
    "        super().__init__(height,weight,iq)\n",
    "        surya.name=name\n",
    "        surya.age=age\n",
    "        surya.__rollno=rollno\n",
    "        surya.grade=10\n",
    "    grade=1009\n",
    "    def print_details(surya):\n",
    "        print(f\"{surya.name},{surya.__rollno},{surya.age},{surya.weight}\")\n",
    "    def call_child(self,obj,phase):\n",
    "        obj.character(phase)\n",
    "\n",
    "\n",
    "st2=student('surya',34,10098,\"6ft\",\"89kg\",40)\n",
    "st2.print_details()\n",
    "\n",
    "c1=child(\"5ft\",\"50kg\",30)\n",
    "st2.call_child(c1,)\n",
    "\n"
   ]
  },
  {
   "cell_type": "code",
   "execution_count": 44,
   "metadata": {},
   "outputs": [
    {
     "ename": "NameError",
     "evalue": "name 'Counter' is not defined",
     "output_type": "error",
     "traceback": [
      "\u001b[31m---------------------------------------------------------------------------\u001b[39m",
      "\u001b[31mNameError\u001b[39m                                 Traceback (most recent call last)",
      "\u001b[36mCell\u001b[39m\u001b[36m \u001b[39m\u001b[32mIn[44]\u001b[39m\u001b[32m, line 2\u001b[39m\n\u001b[32m      1\u001b[39m nums=[\u001b[32m1\u001b[39m,\u001b[32m1\u001b[39m,\u001b[32m3\u001b[39m,\u001b[32m5\u001b[39m,\u001b[32m5\u001b[39m,\u001b[32m5\u001b[39m]\n\u001b[32m----> \u001b[39m\u001b[32m2\u001b[39m cn= \u001b[43mCounter\u001b[49m(nums)\n",
      "\u001b[31mNameError\u001b[39m: name 'Counter' is not defined"
     ]
    }
   ],
   "source": [
    "nums=[1,1,3,5,5,5]\n",
    "cn= Counter(nums)"
   ]
  }
 ],
 "metadata": {
  "kernelspec": {
   "display_name": "Python 3",
   "language": "python",
   "name": "python3"
  },
  "language_info": {
   "codemirror_mode": {
    "name": "ipython",
    "version": 3
   },
   "file_extension": ".py",
   "mimetype": "text/x-python",
   "name": "python",
   "nbconvert_exporter": "python",
   "pygments_lexer": "ipython3",
   "version": "3.13.2"
  }
 },
 "nbformat": 4,
 "nbformat_minor": 2
}
