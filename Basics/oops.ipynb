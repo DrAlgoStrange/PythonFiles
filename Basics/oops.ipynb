{
 "cells": [
  {
   "cell_type": "markdown",
   "metadata": {},
   "source": [
    "All my object oriented codes are here"
   ]
  },
  {
   "cell_type": "code",
   "execution_count": 37,
   "metadata": {},
   "outputs": [
    {
     "name": "stdout",
     "output_type": "stream",
     "text": [
      "jaspreet,90012,22\n"
     ]
    }
   ],
   "source": [
    "\n",
    "''''Creating a normal python class program and check for the scope of the self in the class method'''\n",
    "\n",
    "class student:\n",
    "    def __init__(surya,name,age,rollno):\n",
    "        surya.name=name\n",
    "        surya.age=age\n",
    "        surya.rollno=rollno\n",
    "    def print_details(surya):\n",
    "        print(f\"{name},{surya.rollno},{surya.age}\")\n",
    "try:\n",
    "    st1=student('Shyam',22,90012)\n",
    "    st1.print_details()\n",
    "except Exception as er:\n",
    "    print(er)"
   ]
  },
  {
   "cell_type": "code",
   "execution_count": 48,
   "metadata": {},
   "outputs": [
    {
     "ename": "AttributeError",
     "evalue": "'student' object has no attribute '_student__weight'",
     "output_type": "error",
     "traceback": [
      "\u001b[31m---------------------------------------------------------------------------\u001b[39m",
      "\u001b[31mAttributeError\u001b[39m                            Traceback (most recent call last)",
      "\u001b[36mCell\u001b[39m\u001b[36m \u001b[39m\u001b[32mIn[48]\u001b[39m\u001b[32m, line 22\u001b[39m\n\u001b[32m     18\u001b[39m         \u001b[38;5;28mprint\u001b[39m(\u001b[33mf\u001b[39m\u001b[33m\"\u001b[39m\u001b[38;5;132;01m{\u001b[39;00mname\u001b[38;5;132;01m}\u001b[39;00m\u001b[33m,\u001b[39m\u001b[38;5;132;01m{\u001b[39;00msurya.__rollno\u001b[38;5;132;01m}\u001b[39;00m\u001b[33m,\u001b[39m\u001b[38;5;132;01m{\u001b[39;00msurya.age\u001b[38;5;132;01m}\u001b[39;00m\u001b[33m,\u001b[39m\u001b[38;5;132;01m{\u001b[39;00msurya.__weight\u001b[38;5;132;01m}\u001b[39;00m\u001b[33m\"\u001b[39m)\n\u001b[32m     21\u001b[39m st2=student(\u001b[33m'\u001b[39m\u001b[33msurya\u001b[39m\u001b[33m'\u001b[39m,\u001b[32m34\u001b[39m,\u001b[32m10098\u001b[39m,\u001b[33m\"\u001b[39m\u001b[33m6ft\u001b[39m\u001b[33m\"\u001b[39m,\u001b[33m\"\u001b[39m\u001b[33m89kg\u001b[39m\u001b[33m\"\u001b[39m,\u001b[32m40\u001b[39m)\n\u001b[32m---> \u001b[39m\u001b[32m22\u001b[39m \u001b[43mst2\u001b[49m\u001b[43m.\u001b[49m\u001b[43mprint_details\u001b[49m\u001b[43m(\u001b[49m\u001b[43m)\u001b[49m\n\u001b[32m     24\u001b[39m c1=child(\u001b[33m\"\u001b[39m\u001b[33m5ft\u001b[39m\u001b[33m\"\u001b[39m,\u001b[33m\"\u001b[39m\u001b[33m50kg\u001b[39m\u001b[33m\"\u001b[39m,\u001b[32m30\u001b[39m)\n",
      "\u001b[36mCell\u001b[39m\u001b[36m \u001b[39m\u001b[32mIn[48]\u001b[39m\u001b[32m, line 18\u001b[39m, in \u001b[36mstudent.print_details\u001b[39m\u001b[34m(surya)\u001b[39m\n\u001b[32m     17\u001b[39m \u001b[38;5;28;01mdef\u001b[39;00m\u001b[38;5;250m \u001b[39m\u001b[34mprint_details\u001b[39m(surya):\n\u001b[32m---> \u001b[39m\u001b[32m18\u001b[39m     \u001b[38;5;28mprint\u001b[39m(\u001b[33mf\u001b[39m\u001b[33m\"\u001b[39m\u001b[38;5;132;01m{\u001b[39;00mname\u001b[38;5;132;01m}\u001b[39;00m\u001b[33m,\u001b[39m\u001b[38;5;132;01m{\u001b[39;00msurya.__rollno\u001b[38;5;132;01m}\u001b[39;00m\u001b[33m,\u001b[39m\u001b[38;5;132;01m{\u001b[39;00msurya.age\u001b[38;5;132;01m}\u001b[39;00m\u001b[33m,\u001b[39m\u001b[38;5;132;01m{\u001b[39;00m\u001b[43msurya\u001b[49m\u001b[43m.\u001b[49m\u001b[43m__weight\u001b[49m\u001b[38;5;132;01m}\u001b[39;00m\u001b[33m\"\u001b[39m)\n",
      "\u001b[31mAttributeError\u001b[39m: 'student' object has no attribute '_student__weight'"
     ]
    }
   ],
   "source": [
    "class child:\n",
    "    def __init__(self,height,weight,iq):\n",
    "        self.height=height\n",
    "        self.__weight=weight\n",
    "        self.iq=iq\n",
    "        self.hairs=\"brown\"\n",
    "\n",
    "class student(child):\n",
    "    grade=100\n",
    "    def __init__(surya,name,age,rollno,height,weight,iq):\n",
    "        super().__init__(height,weight,iq)\n",
    "        surya.name=name\n",
    "        surya.age=age\n",
    "        surya.__rollno=rollno\n",
    "        surya.grade=10\n",
    "    grade=1009\n",
    "    def print_details(surya):\n",
    "        print(f\"{name},{surya.__rollno},{surya.age},{surya.__weight}\")\n",
    "\n",
    "\n",
    "st2=student('surya',34,10098,\"6ft\",\"89kg\",40)\n",
    "st2.print_details()\n",
    "\n",
    "c1=child(\"5ft\",\"50kg\",30)\n",
    "\n"
   ]
  }
 ],
 "metadata": {
  "kernelspec": {
   "display_name": "Python 3",
   "language": "python",
   "name": "python3"
  },
  "language_info": {
   "codemirror_mode": {
    "name": "ipython",
    "version": 3
   },
   "file_extension": ".py",
   "mimetype": "text/x-python",
   "name": "python",
   "nbconvert_exporter": "python",
   "pygments_lexer": "ipython3",
   "version": "3.13.2"
  }
 },
 "nbformat": 4,
 "nbformat_minor": 2
}
